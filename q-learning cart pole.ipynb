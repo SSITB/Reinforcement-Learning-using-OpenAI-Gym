{
 "cells": [
  {
   "cell_type": "code",
   "execution_count": 6,
   "metadata": {},
   "outputs": [],
   "source": [
    "import gym\n",
    "import math\n",
    "from copy import deepcopy\n",
    "import numpy as np\n",
    "import matplotlib.pyplot as plt\n",
    "import seaborn as sns"
   ]
  },
  {
   "cell_type": "code",
   "execution_count": 7,
   "metadata": {},
   "outputs": [
    {
     "name": "stdout",
     "output_type": "stream",
     "text": [
      "\u001b[33mWARN: gym.spaces.Box autodetected dtype as <type 'numpy.float32'>. Please provide explicit dtype.\u001b[0m\n"
     ]
    }
   ],
   "source": [
    "env = gym.make('CartPole-v0')\n",
    "Q_table = np.zeros((2,2,8,4,2))\n",
    "alpha=0.3\n",
    "buckets=[2, 2, 8, 4]\n",
    "gamma=0.99\n",
    "rewards=[]"
   ]
  },
  {
   "cell_type": "code",
   "execution_count": 8,
   "metadata": {},
   "outputs": [],
   "source": [
    "def toDiscreteStates(observation):\n",
    "    interval=[0 for i in range(len(observation))]\n",
    "    max_range=[2,3,0.42,3] #[4.8,3.4*(10**38),0.42,3.4*(10**38)]\n",
    "\n",
    "    for i in range(len(observation)):\n",
    "        data = observation[i]\n",
    "        inter = int(math.floor((data + max_range[i])/(2*max_range[i]/buckets[i])))\n",
    "        if inter>=buckets[i]:\n",
    "            interval[i]=buckets[i]-1\n",
    "        elif inter<0:\n",
    "            interval[i]=0\n",
    "        else:\n",
    "            interval[i]=inter\n",
    "    return interval"
   ]
  },
  {
   "cell_type": "code",
   "execution_count": 9,
   "metadata": {},
   "outputs": [],
   "source": [
    "def get_action(observation,t):\n",
    "#     print get_explore_rate(t)\n",
    "    if np.random.random()<max(0.05, min(0.5, 1.0 - math.log10((t+1)/150.))):\n",
    "        return env.action_space.sample()\n",
    "    interval = toDiscreteStates(observation)\n",
    "\n",
    "    if Q_table[tuple(interval)][0] >=Q_table[tuple(interval)][1]:\n",
    "        return 0\n",
    "    else:\n",
    "        return 1\n",
    "\n",
    "def updateQ(observation,reward,action,ini_obs,t):\n",
    "    interval = toDiscreteStates(observation)\n",
    "    Q_next = max(Q_table[tuple(interval)][0],Q_table[tuple(interval)][1])\n",
    "    ini_interval = toDiscreteStates(ini_obs)\n",
    "    Q_table[tuple(ini_interval)][action]+=0.1*(reward + gamma*(Q_next) - Q_table[tuple(ini_interval)][action])\n",
    "\n"
   ]
  },
  {
   "cell_type": "code",
   "execution_count": null,
   "metadata": {},
   "outputs": [],
   "source": [
    "for i_episode in range(2000):\n",
    "    observation = env.reset()\n",
    "    t=0\n",
    "    while (True):\n",
    "        env.render()\n",
    "        action = get_action(observation,i_episode)\n",
    "        observation1, reward, done, info = env.step(action)\n",
    "#         print observation1\n",
    "#         next_action = get_action(observation1,i_episode)\n",
    "#         updateQ_SARSA(observation1,reward,action,observation,next_action,t)\n",
    "        updateQ(observation1,reward,action,observation,t)\n",
    "        observation=observation1\n",
    "#         action = next_action\n",
    "        t+=1\n",
    "        if done:\n",
    "#             print(\"Episode finished after {} timesteps\".format(t+1))\n",
    "            rewards.append(t+1)\n",
    "            break"
   ]
  },
  {
   "cell_type": "code",
   "execution_count": null,
   "metadata": {},
   "outputs": [],
   "source": []
  }
 ],
 "metadata": {
  "kernelspec": {
   "display_name": "Python 2",
   "language": "python",
   "name": "python2"
  },
  "language_info": {
   "codemirror_mode": {
    "name": "ipython",
    "version": 2
   },
   "file_extension": ".py",
   "mimetype": "text/x-python",
   "name": "python",
   "nbconvert_exporter": "python",
   "pygments_lexer": "ipython2",
   "version": "2.7.14"
  }
 },
 "nbformat": 4,
 "nbformat_minor": 2
}
